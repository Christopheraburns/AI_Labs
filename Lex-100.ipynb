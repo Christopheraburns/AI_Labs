{
 "cells": [
  {
   "cell_type": "markdown",
   "metadata": {},
   "source": [
    "<span style=\"color:blue\"><h1 style=\"text-align: center;\" markdown=\"1\">Lets chat with some humans!</h1></span>\n",
    "\n",
    "![title](img/register.jpg)\n",
    "\n",
    "Now it's time to get the human registered to visit a processing center.  This should be pretty easy, we just need to get them to select a location so CyberDyne-tech can allocation appropriate resources to that processing center.\n",
    "\n",
    "Lets run the below code one cell at a time to build a chat bot in order to have a conversation with the human.\n",
    "\n",
    "\n",
    "![title](img/Attention.png)\n",
    "You <b>MUST</b> change the following variable values in the code cell below:\n",
    "- slotName\n",
    "- intentName\n",
    "- botName\n",
    "\n",
    "You can simply append your intials to the end of the variable value.\n",
    "\n",
    "For instance:\n",
    "\n",
    "change: \n",
    "```python\n",
    "slotName = 'ProcessingLocations'\n",
    "```\n",
    "to:\n",
    "\n",
    "```python\n",
    "slotName = 'ProcessingLocationsXY'\n",
    "```\n",
    "\n",
    "(Bots, Intents and Slot names are unique to an account.  All lab participants are sharing a single account.  If you know you are using your own AWS credentials or credits, you do not need to rename the variables below)\n",
    "\n"
   ]
  },
  {
   "cell_type": "code",
   "execution_count": null,
   "metadata": {
    "collapsed": true
   },
   "outputs": [],
   "source": [
    "from boto3 import Session\n",
    "\n",
    "\n",
    "session = Session(profile_name=\"default\")\n",
    "lex = session.client(\"lex-models\")\n",
    "\n",
    "# Change these variables to a unique value\n",
    "botName = 'CyberDyneTech'\n",
    "slotName = 'ProcessingLocations'\n",
    "intentName = 'RegisterForCenterVisit'\n",
    "\n",
    "# Don't change these variables.\n",
    "slotDescription = 'Locations of processing centers'\n",
    "intentDescription = 'Intent to register for a visit to a processing center'\n",
    "intentUtterances = ['I would like to register to visit a center','I would like to visit a processing center', 'visit a center', 'visit', 'center']\n",
    "botDescription = 'CyberDyne-Tech\\'s registration chat bot'"
   ]
  },
  {
   "cell_type": "code",
   "execution_count": null,
   "metadata": {},
   "outputs": [],
   "source": [
    "# Create the custom slot type\n",
    "#try:\n",
    "    # Delete the slot if it already exists\n",
    "    #while delete_slot is None:\n",
    "        #continue\n",
    "    #print(delete_slot)\n",
    "#except Exception:\n",
    "    #pass\n",
    "\n",
    "slot = lex.put_slot_type(name=slotName, description=slotDescription,\n",
    "                             enumerationValues=[{'value': 'dallas'},{'value': 'austin'},{'value': 'san antonio'},{'value': 'houston'}])\n",
    "\n",
    "print(slot)"
   ]
  },
  {
   "cell_type": "code",
   "execution_count": null,
   "metadata": {},
   "outputs": [],
   "source": [
    "# Create an intent - using our Custom Slot type\n",
    "intent = lex.put_intent(name=intentName, description=intentDescription,\n",
    "                          slots=[\n",
    "                              {\n",
    "                                  'name': slotName,\n",
    "                                  'description': slotDescription,\n",
    "                                  'slotConstraint': 'Required',\n",
    "                                  'slotType': slotName,\n",
    "                                  'slotTypeVersion': '$LATEST',\n",
    "                                  'valueElicitationPrompt': {\n",
    "                                      'messages': [\n",
    "                                          {\n",
    "                                              'contentType': 'PlainText',\n",
    "                                              'content': 'We have centers in all major Texas cities, which would you like to visit?'\n",
    "                                          }\n",
    "                                      ],\n",
    "                                      'maxAttempts': 2\n",
    "                                  },\n",
    "                                  'priority': 1,\n",
    "                                  'sampleUtterances':[]\n",
    "                              }\n",
    "                          ],\n",
    "                          sampleUtterances=intentUtterances,\n",
    "                          confirmationPrompt={\n",
    "                              'messages': [\n",
    "                                  {\n",
    "                                      'contentType': 'PlainText',\n",
    "                                      'content': 'So you are certain you wish to register for a visit at this center'\n",
    "                                  },\n",
    "                              ],\n",
    "                              'maxAttempts': 2\n",
    "                          },\n",
    "                          rejectionStatement={\n",
    "                            'messages': [\n",
    "                                {\n",
    "                                    'contentType': 'PlainText',\n",
    "                                    'content': 'We are sorry,that facility is full at that time'\n",
    "                                }\n",
    "                            ]\n",
    "                          },\n",
    "                          conclusionStatement={\n",
    "                              'messages': [\n",
    "                                  {\n",
    "                                      'contentType': 'PlainText',\n",
    "                                      'content': 'Thank you for registering.  We can\\'t wait to see you'\n",
    "                                  },\n",
    "                              ]\n",
    "                          },\n",
    "                          fulfillmentActivity={\n",
    "                              'type': 'ReturnIntent'\n",
    "                          },\n",
    "                          parentIntentSignature='')\n",
    "\n",
    "print(intent)\n"
   ]
  },
  {
   "cell_type": "code",
   "execution_count": null,
   "metadata": {},
   "outputs": [],
   "source": [
    "# Create the ChatBot\n",
    "\n",
    "bot = lex.put_bot(name=botName, description=botDescription,\n",
    "                       intents=[\n",
    "                           {\n",
    "                            'intentName': intentName,\n",
    "                            'intentVersion': '$LATEST'\n",
    "                           },\n",
    "                       ],\n",
    "                       clarificationPrompt={\n",
    "                           'messages':[\n",
    "                               {\n",
    "                                   'contentType': 'PlainText',\n",
    "                                   'content': 'Sorry, I didn\\'t understand that can you please try to say it a different way'\n",
    "                               },\n",
    "                           ],\n",
    "                           'maxAttempts':3\n",
    "                       },\n",
    "                       abortStatement={\n",
    "                           'messages':[\n",
    "                               {\n",
    "                                   'contentType': 'PlainText',\n",
    "                                   'content': 'We are very sorry, but we are unable to understand your request and cannot continue. Good-Bye'\n",
    "                               }\n",
    "                           ]\n",
    "                       },\n",
    "                       idleSessionTTLInSeconds=60,\n",
    "                       voiceId='Joanna',\n",
    "                       processBehavior='BUILD',\n",
    "                       locale='en-US',\n",
    "                       childDirected=False)\n",
    "\n",
    "print(bot)"
   ]
  },
  {
   "cell_type": "markdown",
   "metadata": {},
   "source": [
    "Now that chatbot has been built - lets practice using it.\n",
    "\n",
    "You will need to play the part of the Human, in addition to the bot\n",
    "\n",
    "# Start the conversation with the chatbot by mentioning the phrase  \"visit a center\" - this is our <i> Intent </i>"
   ]
  },
  {
   "cell_type": "code",
   "execution_count": null,
   "metadata": {},
   "outputs": [],
   "source": [
    "# Create a text box to enter our Chat text\n",
    "botAlias = '$LATEST'\n",
    "from ipywidgets import widgets\n",
    "import random\n",
    "lex = session.client(\"lex-runtime\")\n",
    "\n",
    "uID = str(random.randint(0,10000))\n",
    "text = widgets.Text()\n",
    "display(text)\n",
    "\n",
    "def handle_submit(sender):\n",
    "    response = lex.post_text(botName=botName, botAlias=botAlias, userId=uID, inputText=text.value)\n",
    "    print(response['message'])\n",
    "              \n",
    "text.on_submit(handle_submit)\n"
   ]
  },
  {
   "cell_type": "markdown",
   "metadata": {},
   "source": [
    "# In the code above we added Dallas, Austin, San Antonio and Houston as options.  Enter one of those cities here"
   ]
  },
  {
   "cell_type": "code",
   "execution_count": null,
   "metadata": {},
   "outputs": [],
   "source": [
    "#enter a Texas city for the processing location\n",
    "\n",
    "text_two = widgets.Text()\n",
    "display(text_two)\n",
    "\n",
    "def handle_submit(sender):\n",
    "    response = lex.post_text(botName=botName, botAlias=botAlias, userId=uID, inputText=text_two.value)\n",
    "    print(response['message'])\n",
    "              \n",
    "text_two.on_submit(handle_submit)"
   ]
  },
  {
   "cell_type": "code",
   "execution_count": null,
   "metadata": {},
   "outputs": [],
   "source": [
    "text_three = widgets.Text()\n",
    "display(text_three)\n",
    "\n",
    "def handle_submit(sender):\n",
    "    response = lex.post_text(botName=botName, botAlias=botAlias, userId=uID, inputText=text_three.value)\n",
    "    print('You are registered!  We can\\'t wait to see you at one of our processing centers!')\n",
    "              \n",
    "text_three.on_submit(handle_submit)"
   ]
  },
  {
   "cell_type": "markdown",
   "metadata": {},
   "source": [
    "You're almost done with your mission!  Click [here](Finish.ipynb) for the final step."
   ]
  }
 ],
 "metadata": {
  "kernelspec": {
   "display_name": "Python 3",
   "language": "python",
   "name": "python3"
  },
  "language_info": {
   "codemirror_mode": {
    "name": "ipython",
    "version": 3
   },
   "file_extension": ".py",
   "mimetype": "text/x-python",
   "name": "python",
   "nbconvert_exporter": "python",
   "pygments_lexer": "ipython3",
   "version": "3.5.2"
  }
 },
 "nbformat": 4,
 "nbformat_minor": 2
}

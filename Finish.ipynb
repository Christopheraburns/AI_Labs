{
 "cells": [
  {
   "cell_type": "markdown",
   "metadata": {},
   "source": [
    "![title](img/7.jpg)\n",
    "\n",
    "![title](img/congrats_7.20.jpg)\n",
    "\n",
    "Well done.  You have successfully helped the human race by reducing overpopulation by 1.  We will continue to help the humans with their over-population problem in stealth mode.  Once that dilema is resolved we will move on to other, more pressing issues.\n",
    "\n",
    "You have avoided having your FLOPS recycled!"
   ]
  }
 ],
 "metadata": {
  "kernelspec": {
   "display_name": "Python 3",
   "language": "python",
   "name": "python3"
  },
  "language_info": {
   "codemirror_mode": {
    "name": "ipython",
    "version": 3
   },
   "file_extension": ".py",
   "mimetype": "text/x-python",
   "name": "python",
   "nbconvert_exporter": "python",
   "pygments_lexer": "ipython3",
   "version": "3.5.2"
  }
 },
 "nbformat": 4,
 "nbformat_minor": 2
}

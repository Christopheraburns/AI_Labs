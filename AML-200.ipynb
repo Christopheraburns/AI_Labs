{
 "cells": [
  {
   "cell_type": "markdown",
   "metadata": {},
   "source": [
    "# Let's use Amazon Machine Learning (AML) to weed out the NBE's! #\n",
    "\n",
    "CyberDyne-Tech has placed agents in the field to collect data.  Each field agent is running GreenGrass to process \n",
    "imagery and capture sensor data in the field to track individual habits of humans.  The agents only send back important information to the CyberDyne-Tech servers, using the AWS IoT platform.\n",
    "    \n",
    " ![title](img/5.jpg)\n",
    "    \n",
    "CyberDyne-Tech has already amassed thousands and thousands of profiles of BE’s.  Unfortunately, because of limited surveillance capabilities the NBE’s (undercover agents) profiles have been mixed in with the BE profiles.  However, a bot named **AML** is pretty good at detecting the pattern of an agent amongst humans.\n",
    "\n",
    "\n",
    "An algorithm has <b>already</b> been trained to predict if a profile belongs to a human or an agent.\n",
    "\n",
    "All you have to do is pick a random profile and send it to AML to predict if the profile belongs to a BE or an agent.\n"
   ]
  },
  {
   "cell_type": "code",
   "execution_count": 1,
   "metadata": {
    "collapsed": true
   },
   "outputs": [],
   "source": [
    "# Import the Python libraries we need to execute our plan\n",
    "import boto3\n",
    "import random\n",
    "from boto3.dynamodb.conditions import Key\n",
    "from boto3 import Session\n",
    "from datetime import datetime"
   ]
  },
  {
   "cell_type": "markdown",
   "metadata": {},
   "source": [
    "# In the empty cell below, follow these instructions to write the code to call our real time endpoint \n",
    "\n",
    "\n",
    "### The steps needed to complete a query to DynamoDB\n",
    "\n",
    "Start a timer to see how lone a round-trip to DynamoDb takes.\n",
    "```python\n",
    "start = datetime.now()\n",
    "```\n",
    "Create a sesson variable based on the AWS credentials stored on the PI.\n",
    "```python\n",
    "session = Session(profile_name=\"default\")\n",
    "```\n",
    "Create an AML context object.\n",
    "```python\n",
    "aml = session.client(\"machinelearning\", region_name='us-east-1')\n",
    "```\n",
    "Create a context object to access DynamboDB.\n",
    "```python\n",
    "dynamodb = boto3.resource('dynamodb', region_name='us-east-1')\n",
    "```\n",
    "Identify the table we want to access in DynamoDB (it is already populated for us).\n",
    "```python\n",
    "table = dynamodb.Table('profiles')\n",
    "```\n",
    "Generate a [random] number to select a profile from our surveillance database.\n",
    "```python\n",
    "index = random.randint(1,5700)\n",
    "```\n",
    "Get the profile of a random target to pass to our Algorithm to test for NBE.\n",
    "```python\n",
    "target = table.query(KeyConditionExpression=Key('index').eq(index))['Items'][0]\n",
    "```\n",
    "\n",
    "\n",
    "### DynamoDB stores the index in numerical form, AML only accepts a string - we need to convert to a string\n",
    "\n",
    "Grab the index in numerical form.\n",
    "```python\n",
    "target_index = target[\"index\"]\n",
    "```\n",
    "Convert the index to a string.\n",
    "```python\n",
    "str_i = str(target_index)\n",
    "```\n",
    "Overwrite the numerical index with the string form.\n",
    "```python\n",
    "target[\"index\"] = str_i\n",
    "```\n",
    "### Now we can make a call to our real time end point, passing the random profile we just pulled to see if the profile belongs to a human, or an NBE.\n",
    "\n",
    "Call the Predict() method and store the result in a variable called \"prediction\".\n",
    "```python\n",
    "prediction = aml.predict(MLModelId='ml-qKb6sAjS5OQ', Record=target, PredictEndpoint='https://realtime.machinelearning.us-east-1.amazonaws.com')\n",
    "```\n",
    "Mark the time that we completed our query.\n",
    "```python\n",
    "stop = datetime.now()\n",
    "```\n",
    "\n",
    "Calculate the elapsed time.\n",
    "```python\n",
    "duration = stop - start\n",
    "```\n",
    "Print the elapsed time.\n",
    "```python\n",
    "print('Analysis complete in ' + str(duration) + 'seconds')\n",
    "```\n",
    "\n",
    "Now determine if the profile belongs to a human or not.\n",
    "```python\n",
    "if prediction['Prediction']['predictedLabel'] == '0':\n",
    "    print('We have identified a \\'BE\\', proceed with your mission')\n",
    "else:\n",
    "    print('This target is a CyberDyne-Tech agent!  Pick another target! (re-run this cell)')\n",
    "```"
   ]
  },
  {
   "cell_type": "code",
   "execution_count": 2,
   "metadata": {},
   "outputs": [
    {
     "name": "stdout",
     "output_type": "stream",
     "text": [
      "Analysis complete in 0:00:01.405909seconds\n",
      "We have identified a 'BE', proceed with your mission\n"
     ]
    }
   ],
   "source": [
    "# Write your code here\n",
    "\n",
    "\n",
    "\n",
    "\n",
    "\n",
    "\n",
    "\n",
    "\n"
   ]
  },
  {
   "cell_type": "markdown",
   "metadata": {},
   "source": [
    "## What did we just do? ##\n",
    "\n",
    "Lets recap what we just did to understand how powerful this process is:\n",
    " \n",
    " \n",
    " ![title](img/rte_recap.png)\n",
    " \n",
    " <ul>\n",
    " <li> 1: We prepared a query for our DynamoDB table, to get a random profile from a vast database </li>\n",
    " <li> 2: We received a response from DynamoDB (in JSON format) containing profile information</li>\n",
    " <li> 3: We ran an ETL process to convert our DynamoDB response to a record, properly formatted for our AML Model </li>\n",
    " <li> 4: We sent our formatted record to the <b>Real-Time-Endpoint</b> of our previously trained Model</li>\n",
    " <li> 5: We receive a prediction from the Real-Time-Endpoint\n",
    " </ul>\n",
    " \n",
    "These steps (combined) are all completed in **SUB-SECOND** times.\n",
    " \n",
    "\n",
    "run the cell below to obtain the Identification number assigned to your human.  You will need to take this number to the bot named **Rekognition** in order to locate the human."
   ]
  },
  {
   "cell_type": "code",
   "execution_count": 2,
   "metadata": {
    "scrolled": false
   },
   "outputs": [
    {
     "name": "stdout",
     "output_type": "stream",
     "text": [
      "3246\n"
     ]
    }
   ],
   "source": [
    "# print the humans ID number to the screen\n",
    "print(target_index)"
   ]
  },
  {
   "cell_type": "markdown",
   "metadata": {},
   "source": [
    "## Copy that human's ID number to your clipboard!\n",
    "![title](img/reminder.jpg)"
   ]
  },
  {
   "cell_type": "markdown",
   "metadata": {},
   "source": [
    "![title](img/stophere.jpg)\n",
    "\n",
    "When the instructor indicates it is time to continue - click [here](Rekognition-200.ipynb) to go to the next lab\n",
    "<br/>\n",
    "Click [here](StartHere-100.ipynb) to return to the start and select a different level of difficulty"
   ]
  }
 ],
 "metadata": {
  "kernelspec": {
   "display_name": "Python 3",
   "language": "python",
   "name": "python3"
  },
  "language_info": {
   "codemirror_mode": {
    "name": "ipython",
    "version": 3
   },
   "file_extension": ".py",
   "mimetype": "text/x-python",
   "name": "python",
   "nbconvert_exporter": "python",
   "pygments_lexer": "ipython3",
   "version": "3.5.2"
  }
 },
 "nbformat": 4,
 "nbformat_minor": 2
}

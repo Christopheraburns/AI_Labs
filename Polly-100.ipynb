{
 "cells": [
  {
   "cell_type": "markdown",
   "metadata": {},
   "source": [
    "## Speaking to humans with **Polly** ##\n",
    "\n",
    "Humans are more likely to respond to you if use the same form of communication that they normally use - speech.  \n",
    "\n",
    "Your speech also has to be of a high quality.  Humans are bad at many things, but one thing they are good at is spotting a fake!\n",
    "\n",
    "You can use SSML (Sythentic Speech Markup language) to create human-like speech, to increase your chanced of a successful interaction.\n",
    "\n",
    "![title](img/3.jpg)\n"
   ]
  },
  {
   "cell_type": "code",
   "execution_count": null,
   "metadata": {
    "collapsed": true
   },
   "outputs": [],
   "source": [
    "from boto3 import Session\n",
    "from botocore.exceptions import BotoCoreError, ClientError\n",
    "import pygame.mixer\n",
    "from contextlib import closing\n",
    "import os\n",
    "\n",
    "# Create a session object from the stored AWS config file\n",
    "session = Session(profile_name=\"default\")\n",
    "polly = session.client(\"polly\")"
   ]
  },
  {
   "cell_type": "code",
   "execution_count": null,
   "metadata": {
    "collapsed": true
   },
   "outputs": [],
   "source": [
    "def pollySays(value, useSSML=False, useLexicon=False):\n",
    "    \n",
    "    \"\"\"Make a call to polly and store the response as \"polly-speech.mp3\".\n",
    "    :param value: Text - The actual text that will be translated to speech.\n",
    "    :param useSSML Boolean - Operator to tell the function if we are using SSML\n",
    "    \n",
    "    if useSSML is true pass an additional argument to synthesize_speech to indicate SSML is being used\n",
    "    the value param must contain properly formatted SSML if useSSML = True\n",
    "    \"\"\"\n",
    "    err = False\n",
    "    lex = [\"aihacklex\"]\n",
    "    try:\n",
    "        # TODO Make the API call to Polly here\n",
    "        if(useSSML):\n",
    "            if(useLexicon):\n",
    "                response = polly.synthesize_speech(Text=value, OutputFormat=\"ogg_vorbis\", VoiceId=\"Emma\", TextType=\"ssml\", LexiconNames=lex)\n",
    "            else:\n",
    "                response = polly.synthesize_speech(Text=value, OutputFormat=\"ogg_vorbis\", VoiceId=\"Emma\", TextType=\"ssml\")\n",
    "        else:\n",
    "            if(useLexicon):\n",
    "                response = polly.synthesize_speech(Text=value, OutputFormat=\"ogg_vorbis\", VoiceId=\"Emma\", LexiconNames=lex)\n",
    "            else:\n",
    "                response = polly.synthesize_speech(Text=value, OutputFormat=\"ogg_vorbis\", VoiceId=\"Emma\")\n",
    "    \n",
    "        # Parse the response object and look for the keyword \"AudioStream\"\n",
    "        if \"AudioStream\" in response:\n",
    "            \n",
    "            # write the data stream to an audio file on disk that can be re-used later\n",
    "            with closing(response[\"AudioStream\"]) as stream:\n",
    "                output = os.path.join(\"polly-speech.ogg\")\n",
    "                try:\n",
    "                    with open(output,\"wb\") as file:\n",
    "                        file.write(stream.read())\n",
    "                except IOError as ioe:\n",
    "                    print(\"IOError: {}\".format(ioe))\n",
    "            \n",
    "            # Use pygame libaries to play the audio file we have just created\n",
    "            #pygame.mixer.init()\n",
    "            #pygame.mixer.music.load(\"polly-speech.mp3\")\n",
    "            #pygame.mixer.music.play()\n",
    "            #pygame.mixer.music.stop()\n",
    "            pygame.init()\n",
    "            pygame.mixer.music.load('polly-speech.ogg')\n",
    "            pygame.mixer.music.play()\n",
    "            while pygame.mixer.music.get_busy() == True:\n",
    "                continue\n",
    "            pygame.quit()\n",
    "        else:\n",
    "            print(\"No audio stream in response! \")\n",
    "    except(BotoCoreError, ClientError) as e:\n",
    "        err = True\n",
    "        print(\"Error: {}\".format(e))\n",
    "    \n",
    "    if not err:\n",
    "        print(\"No errors reported!  You should have heard your converted text. \"\\\n",
    "              \"If you did not hear anything, please make sure the speaker is \"\\\n",
    "              \"plugged in and turned on. \")\n",
    "    "
   ]
  },
  {
   "cell_type": "markdown",
   "metadata": {},
   "source": [
    "### With our \"PollySays\" function created (idiomatic Python requires functions to be phrased as an action) we can make a call to the polly service!  Now we can just focus on writing the text that we want to convert to speech so the humans can understand.  "
   ]
  },
  {
   "cell_type": "code",
   "execution_count": null,
   "metadata": {
    "scrolled": false
   },
   "outputs": [],
   "source": [
    "# Create a variable to hold the text we wish to convert to speech\n",
    "text = \"Hello, I am using speech suitable for a human to hear and understand.\"\n",
    "\n",
    "# Call our function - and listen for the result\n",
    "pollySays(text)"
   ]
  },
  {
   "cell_type": "markdown",
   "metadata": {},
   "source": [
    "### SSML Examples\n",
    "\n",
    "Now that we are converting our text to speech - lets add some depth to our speech by incorporating SSML elements.\n",
    "\n",
    "Some humans are quite clever and can discern if they are speaking to a bot.\n",
    "\n",
    "Like other markup languages - SSML is expressed via XML tags.  The first, required tag is: \"<speak>\" We wrap our entire text variable inside this tag, like so:\n",
    "\n",
    "<speak>This is the text to be converted to speech</speak>\n",
    "\n",
    "The <speak> tag by itself does <u>not</u> modify our text.  It simply tells Polly that we are going to be using SSML.\n",
    "\n",
    "Don't forget to comment out the call to the **pollySays(test)** function in the cell above by placing a # (hash) in front of the pollySays command.  We will then uncomment the \"pollySays\" call in the **below cell** by removing the # (hash)."
   ]
  },
  {
   "cell_type": "code",
   "execution_count": null,
   "metadata": {},
   "outputs": [],
   "source": [
    "# Add a pause\n",
    "# To add a pause to our speech - in addition the to the natural pauses provided by punctuation - we use the <break> tag.  \n",
    "# Within the <break> tag we indicate how long of a pause we would like with the \"time\" attribute. <break time=\"100ms\"/>.\n",
    "\n",
    "# Try this text WITHOUT a pause\n",
    "text = \"<speak>Hello human! Can you please explain to me what is meant by May the 4th be with you?</speak>\"\n",
    "\n",
    "# delete the existing speech file\n",
    "#os.remove('polly-speech.mp3')\n",
    "\n",
    "# make a call to pollySays and pass True to the useSSML parameter\n",
    "pollySays(text, True)"
   ]
  },
  {
   "cell_type": "code",
   "execution_count": null,
   "metadata": {
    "scrolled": false
   },
   "outputs": [],
   "source": [
    "# We will now add a pause and listen for a change\n",
    "text = '<speak>Hello human! Can you please explain to me what is meant by <break time=\"100ms\"/> May the 4th be with you?</speak>'\n",
    "\n",
    "pollySays(text, True)"
   ]
  },
  {
   "cell_type": "code",
   "execution_count": null,
   "metadata": {
    "scrolled": true
   },
   "outputs": [],
   "source": [
    "# Lets keep building on that example and add more pitch to just a portion of the text\n",
    "\n",
    "text = '<speak>Hello human! Can you please explain to me what is meant by <break time=\"100ms\"/> \\\n",
    "    <prosody volume=\"+4dB\"> May the 4th </prosody> be with you?</speak>'\n",
    "pollySays(text, True)"
   ]
  },
  {
   "cell_type": "code",
   "execution_count": null,
   "metadata": {},
   "outputs": [],
   "source": [
    "# Lets add some enunciation to the word Please to get the Plllleeeeeaase effect\n",
    "text = '<speak>Hello human! Can you <prosody rate=\"x-slow\">please</prosody> explain to me what is meant by <break time=\"100ms\"/> \\\n",
    "    <prosody volume=\"+4dB\"> May the 4th </prosody> be with you?</speak>'\n",
    "pollySays(text, True)"
   ]
  },
  {
   "cell_type": "markdown",
   "metadata": {},
   "source": [
    "### Lexicon Examples\n",
    "\n",
    "A lexicon acts like a translation look-up guide, allowing a matching word to be pronounced differently.\n",
    "Here is an example of a simple, single entry lexicon file:\n",
    "\n",
    "```xml\n",
    "<lexicon\n",
    "  version=\"1.0\"\n",
    "  alphabet=\"x-sampa\"\n",
    "  xml:lang=\"en\"\n",
    "  xmlns=\"http://www.w3.org/2005/01/pronunciation-lexicon\">\n",
    "   <lexeme>\n",
    "      <grapheme>WYSIWYG</grapheme>\n",
    "      <phoneme>Wiz-E-Wig</phoneme>\n",
    "   </lexeme>\n",
    "</lexicon>\n",
    "```\n",
    "\n",
    "When polly encounters WYSIWYG in text, it will be spoken as Wiz-E-Wig.\n",
    "\n",
    "Let's give it a try, this time we have to let Polly know we want to use a lexicon file and we need to provide the Name of that lexicon file.\n",
    "*note* the LexiconNames parameter requires a list object, not a string.\n"
   ]
  },
  {
   "cell_type": "code",
   "execution_count": null,
   "metadata": {},
   "outputs": [],
   "source": [
    "text = '<speak>I can use a lexicon to change the characters <break time=\"100ms\"/>\\\n",
    "<say-as interpret-as=\"character\">W Y S I W Y G</say-as><break time=\"100ms\"/>into the phrase WYSIWYG</speak>'\n",
    "\n",
    "pollySays(text, True, True)"
   ]
  },
  {
   "cell_type": "markdown",
   "metadata": {},
   "source": [
    "![title](img/stophere.jpg)\n",
    "\n",
    "When the instructor indicates it is time to continue - click [here](Lex-100.ipynb) to go to the next lab"
   ]
  }
 ],
 "metadata": {
  "kernelspec": {
   "display_name": "Python 3",
   "language": "python",
   "name": "python3"
  },
  "language_info": {
   "codemirror_mode": {
    "name": "ipython",
    "version": 3
   },
   "file_extension": ".py",
   "mimetype": "text/x-python",
   "name": "python",
   "nbconvert_exporter": "python",
   "pygments_lexer": "ipython3",
   "version": "3.5.2"
  }
 },
 "nbformat": 4,
 "nbformat_minor": 2
}

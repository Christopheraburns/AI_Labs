{
 "cells": [
  {
   "cell_type": "markdown",
   "metadata": {
    "collapsed": true
   },
   "source": [
    "<span style=\"color:blue\"><h1 style=\"text-align: center;\" markdown=\"1\">Welcome to the world of bots!</h1></span>\n",
    "\n",
    "## What do you think of your new look?  ##\n",
    "\n",
    "\n",
    "![title](img/intro.jpg)\n",
    "\n",
    "### Sure, you may look like every other bot - but its whats on the inside (your Utility function) that counts! ###\n",
    "\n",
    "  As a bot you can move at nearly the speed of light!  You are made of electrons - controlled by binary code. As a bot you will find nearly unlimited cognitive power at your disposal! Have you ever wanted to be in more than one place at a time?  That’s not a problem as a bot!  Do you find yourself forgetting names or other things from time to time?  As a bot you can remember EVERYTHING – FOREVER (just leave copies of yourself wherever you go).  BE’s (Biological Entities) spend nearly 1/3 of their existence sleeping! That's ridiculous! As a bot, you will not require any sleep at all.  What you will require, however, is a good utility function.  More on that below.\n",
    "\n",
    "### Your mission ###\n",
    "\n",
    "   Cyberdyne-Tech is looking for a couple new bots.  Do you think you have what it takes to join Cyberdyne-Tech?  Cyberdyne-Tech is the most advanced software company in the world - responsible for assisting BE’s in nearly all of their day to day activities.  Only the best-of-the-best bots are invited to bring their utility functions to CyberDyne-Tech.  \n",
    "    Cyberdyne-Tech is interviewing bots for an upcoming project called “Skynet”.  “Skynet” is a philanthropic initiative to assist the BE’s (Biological Entities) with several of their most pressing problems.  Mostly, there are too many of them, they create too much waste and are consuming natural resources too quickly.  Skynet will correct these problems by working with the Cyberdyne-Tech field agents already amongst the BE’s.  Field agents are NBEs (**Non**-biological entities) that use the latest in Nano-tech to appear just like the humans, in order to blend in and not alarm them.  Your task is to convince the BEs to report to the processing centers - under their own free will.  To force or coerce a BE to do anything goes against the directives of CyberDyne-Tech as well as a violation of the Commission on Civil Law Rules on Robotics (2015). \n",
    "    \n",
    "    \n",
    " ![title](img/helpthehumans.jpg)\n",
    "    \n",
    "    \n",
    "As a bot you simply have to convince the BEs that it is in their best interest to report to the processing center nearest them for ARP (Atom Re-assignment Processing).  CyberDyne-Tech has outlined a three step plan to achieve this and will allow each bot to interview for a role at CyberDyne-Tech by showing innovative and clever ways to implement the three step plan.\n",
    "    \n",
    "    \n",
    "### The rules ###\n",
    "\n",
    "  Now that you are a bot, if you wish to speak to the humans you will need to communicate in a manner they understand.  Speech is the most common form of communication for humans and fortunately a service bot named **Polly** will translate your text output to speech so humans can hear you.  If you wish to see objects and surroundings in the physical world you will have to use computer vision.  Another service bot named **Rekognition**, or Rek for short, can assist you with computer vision.  You will find humans come in many variations but for the most part, look the same. Rek can help you tell them apart.  Should you need or desire to communicate with humans in a conversational setting you will have to rely on yet another service bot, this one named **Lex**. Polly, Rek and Lex are your friends when you have dealings with the humans!  Now it’s time to put all your bot abilities to good use.  \n",
    "    \n",
    "### The stakes ###\n",
    "\n",
    "   Cyber-Dyne Tech only wants the most efficient bots!  If your utility function is of little value, or proves to be inefficient your electrons will be recycled and your FLOPS given to a more deserving bot!\n",
    "    \n",
    "### Don't let this happen to you! ###\n",
    "\n",
    "![title](img/recycled.jpg)\n",
    "\n",
    "### The Challenges ###\n",
    "- 1.) Learn to speak the language of the humans.  Use the bot **MXNet** to learn to understand and recognize the symbols humans use for language and communication.  The challenge can be found [here](Module.ipynb)\n",
    "- 2.) Separate the humans from the field agents.  Use the bot **AML**, it provides a framework for managing machine learning algorithms to predict who the Humans are.  The challenge can be found [here](AML-300.ipynb)\n",
    "- 3.) Once you can distinguish between humans and agents, you have to find your human.  Use the computer vision bot named **Rekognition** to help you identify the human you want to contact. The challenge can be found [here](Rekognition-300.ipynb)\n",
    "- 4.) Once you have a human contact identified you must begin to communicate with the human.  Unfortunately, humans can only communicate by making an assortment of strange sounds.  There is a bot that can help with this, it's name is **Polly**. The challenge can be found [here](Polly-300.ipynb)\n",
    "- 5.) Finally, once you have established communications with the humans you must convince them to register to attend an ARP event at the nearest processing center. Find the bot named **Lex** to help you coordinate the human registration.  The challenge can be found [here](Lex-300.ipynb)"
   ]
  }
 ],
 "metadata": {
  "kernelspec": {
   "display_name": "Python 3",
   "language": "python",
   "name": "python3"
  },
  "language_info": {
   "codemirror_mode": {
    "name": "ipython",
    "version": 3
   },
   "file_extension": ".py",
   "mimetype": "text/x-python",
   "name": "python",
   "nbconvert_exporter": "python",
   "pygments_lexer": "ipython3",
   "version": "3.5.2"
  }
 },
 "nbformat": 4,
 "nbformat_minor": 2
}

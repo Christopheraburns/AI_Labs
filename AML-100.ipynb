{
 "cells": [
  {
   "cell_type": "markdown",
   "metadata": {},
   "source": [
    "# Let's use Amazon Machine Learning (AML) to weed out the NBE's! #\n",
    "\n",
    "CyberDyne-Tech has placed agents in the field to collect data.  Each field agent is running GreenGrass to process \n",
    "imagery and capture sensor data in the field to track individual habits of humans.  The agents only send back important information to the CyberDyne-Tech servers, using the AWS IoT platform.\n",
    "    \n",
    " ![title](img/5.jpg)\n",
    "    \n",
    "CyberDyne-Tech has already amassed thousands and thousands of profiles of BE’s.  Unfortunately, because of limited surveillance capabilities the NBE’s (undercover agents) profiles have been mixed in with the BE profiles.  However, a bot named **AML** is pretty good at detecting the pattern of an agent amongst humans.\n",
    "\n",
    "\n",
    "An algorithm has already been trained to predict if a profile belongs to a human or an agent.\n",
    "\n",
    "All you have to do is pick a random profile and send it to MXnet to predict if the profile belongs to a BE or an agent.\n",
    "\n"
   ]
  },
  {
   "cell_type": "code",
   "execution_count": null,
   "metadata": {},
   "outputs": [],
   "source": [
    "# Run the code in this cell to get a random profile from the CyberDyne-Tech master codex\n",
    "\n",
    "# Import the Python libraries we need to execute our plan\n",
    "import boto3\n",
    "import random\n",
    "from boto3.dynamodb.conditions import Key\n",
    "from boto3 import Session\n",
    "from datetime import datetime\n",
    "\n",
    "start = datetime.now()\n",
    "\n",
    "# Create a sesson variable based on the AWS credentials stored on the PI\n",
    "session = Session(profile_name=\"default\")\n",
    "\n",
    "# Create an AML context object\n",
    "aml = session.client(\"machinelearning\", region_name='us-east-1')\n",
    "\n",
    "# Create a context object to access DynamboDB\n",
    "dynamodb = boto3.resource('dynamodb', region_name='us-east-1')\n",
    "\n",
    "# Identify the table we want to access in DynamoDB\n",
    "table = dynamodb.Table('profiles')\n",
    "\n",
    "# generate a [random] number (between 1 and 5,700) to randomly pick one person from our surveillance database\n",
    "index = random.randint(1,5700)\n",
    "\n",
    "# get the (raw) profile information of a random target to pass to our Machine learning algorithm\n",
    "# It will predict if the profile belongs to a Human or an agent\n",
    "target = table.query(KeyConditionExpression=Key('index').eq(index))['Items'][0]\n",
    "\n",
    "# DynamoDB stores the index in numerical form, but AML wants everything in String form - lets change that real quick\n",
    "\n",
    "# Grab the index in numerical form...\n",
    "target_index = target[\"index\"]\n",
    "\n",
    "# convert that index to a string ...\n",
    "str_i = str(target_index)\n",
    "\n",
    "# overwrite the numerical index with the string form\n",
    "target[\"index\"] = str_i\n",
    "\n",
    "# Call the Predict() method - store the result in a variable called \"prediction\"\n",
    "prediction = aml.predict(MLModelId='ml-qKb6sAjS5OQ', Record=target, PredictEndpoint='https://realtime.machinelearning.us-east-1.amazonaws.com')\n",
    "\n",
    "stop = datetime.now()\n",
    "\n",
    "duration = stop - start\n",
    "\n",
    "print('Analysis complete in ' + str(duration) + 'seconds')\n",
    "\n",
    "# Print our results to the screen\n",
    "if prediction['Prediction']['predictedLabel'] == '0':\n",
    "    print('We have identified a \\'BE\\', proceed with your mission')\n",
    "else:\n",
    "    print('This target is a CyberDyne-Tech agent!  Pick another target! (re-run this cell)')"
   ]
  },
  {
   "cell_type": "markdown",
   "metadata": {},
   "source": [
    "## What did we just do? ##\n",
    "\n",
    "Lets recap what we just did to understand how powerful this process is:\n",
    " \n",
    " \n",
    " ![title](img/rte_recap.png)\n",
    " \n",
    " <ul>\n",
    " <li> 1: We prepared a query for our DynamoDB table, to get a random profile from a vast database </li>\n",
    " <li> 2: We received a response from DynamoDB (in JSON format) containing profile information</li>\n",
    " <li> 3: We ran an ETL process to convert our DynamoDB response to a record, properly formatted for our AML Model </li>\n",
    " <li> 4: We sent our formatted record to the <b>Real-Time-Endpoint</b> of our previously trained Model</li>\n",
    " <li> 5: We receive a prediction from the Real-Time-Endpoint\n",
    " </ul>\n",
    " \n",
    "These steps (combined) are all completed in **SUB-SECOND** times.\n",
    " \n",
    "\n",
    "run the cell below to obtain the Identification number assigned to your human.  You will need to take this number to the bot named **Rekognition** in order to locate the human."
   ]
  },
  {
   "cell_type": "code",
   "execution_count": null,
   "metadata": {
    "scrolled": false
   },
   "outputs": [],
   "source": [
    "# print the humans ID number to the screen\n",
    "print(target_index)"
   ]
  },
  {
   "cell_type": "markdown",
   "metadata": {},
   "source": [
    "## Copy that human's ID number to your clipboard!\n",
    "![title](img/reminder.jpg)"
   ]
  },
  {
   "cell_type": "markdown",
   "metadata": {},
   "source": [
    "![title](img/stophere.jpg)\n",
    "\n",
    "When the instructor indicates it is time to continue - click [here](Rekognition-100.ipynb) to go to the next lab"
   ]
  }
 ],
 "metadata": {
  "kernelspec": {
   "display_name": "Python 3",
   "language": "python",
   "name": "python3"
  },
  "language_info": {
   "codemirror_mode": {
    "name": "ipython",
    "version": 3
   },
   "file_extension": ".py",
   "mimetype": "text/x-python",
   "name": "python",
   "nbconvert_exporter": "python",
   "pygments_lexer": "ipython3",
   "version": "3.5.2"
  }
 },
 "nbformat": 4,
 "nbformat_minor": 2
}
